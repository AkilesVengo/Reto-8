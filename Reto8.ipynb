{
 "cells": [
  {
   "cell_type": "markdown",
   "metadata": {},
   "source": [
    "## Reto 8 \n",
    "1. Imprimir un listado con los números del 1 al 100 cada uno con su respectivo cuadrado."
   ]
  },
  {
   "cell_type": "code",
   "execution_count": null,
   "metadata": {},
   "outputs": [],
   "source": [
    "for i in range(1,101):\n",
    "    print(\"El número \" + str(i) + \" elevado al cuadrado es \" + str(i**2))"
   ]
  },
  {
   "cell_type": "markdown",
   "metadata": {},
   "source": [
    "2. Imprimir un listado con los números impares desde 1 hasta 999 y seguidamente otro listado con los números pares desde 2 hasta 1000."
   ]
  },
  {
   "cell_type": "code",
   "execution_count": null,
   "metadata": {},
   "outputs": [],
   "source": [
    "print(\"Números impares:\")\n",
    "for i in range(1, 1000, 2):\n",
    "    print(i)\n",
    "print(\"Números pares:\")\n",
    "for j in range (2, 1001, 2):\n",
    "    print(j)"
   ]
  },
  {
   "cell_type": "markdown",
   "metadata": {},
   "source": [
    "3. Imprimir los números pares en forma descendente hasta 2 que son menores o iguales a un número natural n ≥ 2 dado"
   ]
  },
  {
   "cell_type": "code",
   "execution_count": null,
   "metadata": {},
   "outputs": [],
   "source": [
    "n  = int(input(\"Ingrese un número natural mayor o igual a 2: \"))\n",
    "print(\"Los números pares en forma descendente desde \" +str(n)+ \" hasta 2 son:\")\n",
    "if n % 2 != 0:\n",
    "    n = n - 1\n",
    "else:\n",
    "    n = n\n",
    "for i in range(n, 1, -2):\n",
    "    print(str(i))"
   ]
  },
  {
   "cell_type": "markdown",
   "metadata": {},
   "source": [
    "4. Imprimir los números de 1 hasta un número natural n dado, cada uno con su respectivo factorial"
   ]
  },
  {
   "cell_type": "code",
   "execution_count": null,
   "metadata": {},
   "outputs": [],
   "source": [
    "n = int(input(\"Ingrese un número natural: \"))\n",
    "for i in range(1, n + 1):\n",
    "  factorial = 1\n",
    "  for p in range(1, i + 1):\n",
    "    factorial *= p\n",
    "  print(p,factorial,sep=\",\")"
   ]
  },
  {
   "cell_type": "markdown",
   "metadata": {},
   "source": [
    "5. Calcular el valor de 2 elevado a la potencia n usando ciclos for."
   ]
  },
  {
   "cell_type": "code",
   "execution_count": null,
   "metadata": {},
   "outputs": [],
   "source": [
    "n=int(input(\"Ingrese la potencia: \"))\n",
    "potencia=1\n",
    "\n",
    "for i in range(1, n+1):\n",
    "  potencia *=2\n",
    "\n",
    "print(\"2 a la potencia de \" + str(n) + \" es \" + str(potencia))"
   ]
  },
  {
   "cell_type": "markdown",
   "metadata": {},
   "source": [
    "6. Leer un número natural n, leer otro dato de tipo real x y calcular x^n usando ciclos for. Disclaimer: Trate de no utilizar el operador de potencia (**)."
   ]
  },
  {
   "cell_type": "code",
   "execution_count": null,
   "metadata": {},
   "outputs": [],
   "source": [
    "numero_b = float(input(\"Ingresa un número real: \"))\n",
    "numero_a = int(input(\"Ingresa un número natural: \"))\n",
    "b = numero_b\n",
    "for i in range(1,numero_a):\n",
    "  numero_b = numero_b * b\n",
    "print(\"El numero \" +str(b)+\" elevado a la potencia \" +str(numero_a)+ \" es : \" +str(numero_b))"
   ]
  },
  {
   "cell_type": "markdown",
   "metadata": {},
   "source": [
    "7. Diseñe un programa que muestre las tablas de multiplicar del 1 al 9."
   ]
  },
  {
   "cell_type": "code",
   "execution_count": null,
   "metadata": {},
   "outputs": [],
   "source": [
    "for i in range(1, 10):\n",
    "  print(\"La tabla del \" + str(i) + \" es: \\n\")\n",
    "  for n in range(1, 11):\n",
    "    multiplicacion = i * n\n",
    "    print(str(i) + \" X \" + str(n) + \" = \" + str(multiplicacion) + \"\\n\")"
   ]
  }
 ],
 "metadata": {
  "kernelspec": {
   "display_name": "Python 3",
   "language": "python",
   "name": "python3"
  },
  "language_info": {
   "codemirror_mode": {
    "name": "ipython",
    "version": 3
   },
   "file_extension": ".py",
   "mimetype": "text/x-python",
   "name": "python",
   "nbconvert_exporter": "python",
   "pygments_lexer": "ipython3",
   "version": "3.11.6"
  }
 },
 "nbformat": 4,
 "nbformat_minor": 2
}
